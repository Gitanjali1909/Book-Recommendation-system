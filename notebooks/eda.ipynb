{
 "cells": [
  {
   "cell_type": "code",
   "execution_count": null,
   "id": "f9518c4d",
   "metadata": {},
   "outputs": [],
   "source": [
    "import pandas as pd\n",
    "import matplotlib.pyplot as plt\n",
    "import seaborn as sns\n",
    "from collections import Counter\n",
    "\n",
    "pd.set_option('display.max_colwidth', 200)\n",
    "sns.set_style(\"whitegrid\")\n",
    "\n",
    "books = pd.read_csv(\"../data/books_cleaned.csv\")\n",
    "books.head()"
   ]
  },
  {
   "cell_type": "code",
   "execution_count": null,
   "id": "837f2b47",
   "metadata": {},
   "outputs": [],
   "source": [
    "books.info()\n",
    "books.describe(include=\"all\")"
   ]
  },
  {
   "cell_type": "code",
   "execution_count": null,
   "id": "70facbc8",
   "metadata": {},
   "outputs": [],
   "source": [
    "books.isnull().sum()"
   ]
  },
  {
   "cell_type": "code",
   "execution_count": null,
   "id": "5b567917",
   "metadata": {},
   "outputs": [],
   "source": [
    "plt.figure(figsize=(8,5))\n",
    "sns.histplot(books['average_rating'], bins=20, kde=True)\n",
    "plt.title(\"Distribution of Average Ratings\")\n",
    "plt.savefig(\"../outputs/ratings_distribution.png\", bbox_inches=\"tight\")\n",
    "plt.show()"
   ]
  },
  {
   "cell_type": "code",
   "execution_count": null,
   "id": "df6e07d2",
   "metadata": {},
   "outputs": [],
   "source": [
    "genre_list = []\n",
    "for g in books['genres'].dropna():\n",
    "    genre_list.extend([x.strip() for x in g.split(\",\")])\n",
    "\n",
    "top_genres = Counter(genre_list).most_common(10)\n",
    "pd.DataFrame(top_genres, columns=[\"Genre\", \"Count\"])"
   ]
  },
  {
   "cell_type": "code",
   "execution_count": null,
   "id": "ae7553b1",
   "metadata": {},
   "outputs": [],
   "source": [
    "top_authors = books['authors'].value_counts().head(10)\n",
    "plt.figure(figsize=(8,5))\n",
    "sns.barplot(x=top_authors.values, y=top_authors.index, palette=\"viridis\")\n",
    "plt.title(\"Top 10 Authors with Most Books\")\n",
    "plt.savefig(\"../outputs/top_authors.png\", bbox_inches=\"tight\")\n",
    "plt.show()"
   ]
  },
  {
   "cell_type": "code",
   "execution_count": null,
   "id": "96762d01",
   "metadata": {},
   "outputs": [],
   "source": [
    "plt.figure(figsize=(6,5))\n",
    "sns.scatterplot(x=\"ratings_count\", y=\"average_rating\", data=books, alpha=0.6)\n",
    "plt.xscale(\"log\")\n",
    "plt.title(\"Ratings Count vs Average Rating\")\n",
    "plt.savefig(\"../outputs/ratings_vs_count.png\", bbox_inches=\"tight\")\n",
    "plt.show()"
   ]
  },
  {
   "cell_type": "code",
   "execution_count": null,
   "id": "70a4a6cf",
   "metadata": {},
   "outputs": [],
   "source": [
    "books[['title', 'authors', 'genres', 'average_rating']].sample(5)"
   ]
  },
  {
   "cell_type": "code",
   "execution_count": null,
   "id": "322469e8",
   "metadata": {},
   "outputs": [],
   "source": [
    "print(\"Dataset cleaned and ready for feature engineering.\")\n",
    "print(f\"Total books: {books.shape[0]}\")\n",
    "print(f\"Unique authors: {books['authors'].nunique()}\")"
   ]
  }
 ],
 "metadata": {
  "kernelspec": {
   "display_name": ".venv",
   "language": "python",
   "name": "python3"
  },
  "language_info": {
   "name": "python",
   "version": "3.12.6"
  }
 },
 "nbformat": 4,
 "nbformat_minor": 5
}
